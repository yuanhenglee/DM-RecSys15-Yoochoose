{
 "cells": [
  {
   "cell_type": "code",
   "execution_count": 1,
   "metadata": {},
   "outputs": [],
   "source": [
    "import numpy as np\n",
    "from Session import Session\n",
    "import pickle\n",
    "import pandas as pd"
   ]
  },
  {
   "cell_type": "code",
   "execution_count": 2,
   "metadata": {},
   "outputs": [],
   "source": [
    "def mrr( rank, label ):\n",
    "    for i, item in enumerate(rank[:20]):\n",
    "        if item == label:\n",
    "            return 1.0/(i + 1)\n",
    "    return 0\n",
    "\n",
    "def recall( rank, label ):\n",
    "    return int(label in rank[:20])\n",
    "    \n",
    "def pred2rank_result( pred ):\n",
    "    top20_indices = np.argsort(pred)[-20:]\n",
    "    top20_indices = np.flip(top20_indices, 0)\n",
    "    rank_result = [ candidates[i] for i in top20_indices ]\n",
    "    return rank_result\n"
   ]
  },
  {
   "cell_type": "code",
   "execution_count": 7,
   "metadata": {},
   "outputs": [],
   "source": [
    "with open('../output/STAN_result.csv', 'r') as f:\n",
    "    STAN_df = pd.read_csv(f)\n",
    "    "
   ]
  },
  {
   "cell_type": "code",
   "execution_count": 11,
   "metadata": {},
   "outputs": [
    {
     "data": {
      "text/html": [
       "<div>\n",
       "<style scoped>\n",
       "    .dataframe tbody tr th:only-of-type {\n",
       "        vertical-align: middle;\n",
       "    }\n",
       "\n",
       "    .dataframe tbody tr th {\n",
       "        vertical-align: top;\n",
       "    }\n",
       "\n",
       "    .dataframe thead th {\n",
       "        text-align: right;\n",
       "    }\n",
       "</style>\n",
       "<table border=\"1\" class=\"dataframe\">\n",
       "  <thead>\n",
       "    <tr style=\"text-align: right;\">\n",
       "      <th></th>\n",
       "      <th>0</th>\n",
       "      <th>6409</th>\n",
       "      <th>146.212538</th>\n",
       "    </tr>\n",
       "  </thead>\n",
       "  <tbody>\n",
       "    <tr>\n",
       "      <th>0</th>\n",
       "      <td>0</td>\n",
       "      <td>37169</td>\n",
       "      <td>30.326207</td>\n",
       "    </tr>\n",
       "    <tr>\n",
       "      <th>1</th>\n",
       "      <td>0</td>\n",
       "      <td>3644</td>\n",
       "      <td>25.904686</td>\n",
       "    </tr>\n",
       "    <tr>\n",
       "      <th>2</th>\n",
       "      <td>0</td>\n",
       "      <td>9878</td>\n",
       "      <td>18.231854</td>\n",
       "    </tr>\n",
       "    <tr>\n",
       "      <th>3</th>\n",
       "      <td>0</td>\n",
       "      <td>37146</td>\n",
       "      <td>16.778757</td>\n",
       "    </tr>\n",
       "    <tr>\n",
       "      <th>4</th>\n",
       "      <td>0</td>\n",
       "      <td>874</td>\n",
       "      <td>11.435755</td>\n",
       "    </tr>\n",
       "    <tr>\n",
       "      <th>...</th>\n",
       "      <td>...</td>\n",
       "      <td>...</td>\n",
       "      <td>...</td>\n",
       "    </tr>\n",
       "    <tr>\n",
       "      <th>1107409</th>\n",
       "      <td>55897</td>\n",
       "      <td>37169</td>\n",
       "      <td>0.338093</td>\n",
       "    </tr>\n",
       "    <tr>\n",
       "      <th>1107410</th>\n",
       "      <td>55897</td>\n",
       "      <td>37204</td>\n",
       "      <td>0.338093</td>\n",
       "    </tr>\n",
       "    <tr>\n",
       "      <th>1107411</th>\n",
       "      <td>55897</td>\n",
       "      <td>117</td>\n",
       "      <td>0.228783</td>\n",
       "    </tr>\n",
       "    <tr>\n",
       "      <th>1107412</th>\n",
       "      <td>55897</td>\n",
       "      <td>37172</td>\n",
       "      <td>0.223772</td>\n",
       "    </tr>\n",
       "    <tr>\n",
       "      <th>1107413</th>\n",
       "      <td>55897</td>\n",
       "      <td>16428</td>\n",
       "      <td>0.210178</td>\n",
       "    </tr>\n",
       "  </tbody>\n",
       "</table>\n",
       "<p>1107414 rows × 3 columns</p>\n",
       "</div>"
      ],
      "text/plain": [
       "             0   6409  146.212538\n",
       "0            0  37169   30.326207\n",
       "1            0   3644   25.904686\n",
       "2            0   9878   18.231854\n",
       "3            0  37146   16.778757\n",
       "4            0    874   11.435755\n",
       "...        ...    ...         ...\n",
       "1107409  55897  37169    0.338093\n",
       "1107410  55897  37204    0.338093\n",
       "1107411  55897    117    0.228783\n",
       "1107412  55897  37172    0.223772\n",
       "1107413  55897  16428    0.210178\n",
       "\n",
       "[1107414 rows x 3 columns]"
      ]
     },
     "execution_count": 11,
     "metadata": {},
     "output_type": "execute_result"
    }
   ],
   "source": [
    "df"
   ]
  },
  {
   "cell_type": "code",
   "execution_count": null,
   "metadata": {},
   "outputs": [],
   "source": []
  }
 ],
 "metadata": {
  "kernelspec": {
   "display_name": "Python 3.10.8 64-bit ('3.10.8')",
   "language": "python",
   "name": "python3"
  },
  "language_info": {
   "codemirror_mode": {
    "name": "ipython",
    "version": 3
   },
   "file_extension": ".py",
   "mimetype": "text/x-python",
   "name": "python",
   "nbconvert_exporter": "python",
   "pygments_lexer": "ipython3",
   "version": "3.10.8"
  },
  "orig_nbformat": 4,
  "vscode": {
   "interpreter": {
    "hash": "e7d001b5e2f49e392f305a0d2c1f44dd159dbb900dfdf1fca834b7701202195b"
   }
  }
 },
 "nbformat": 4,
 "nbformat_minor": 2
}
