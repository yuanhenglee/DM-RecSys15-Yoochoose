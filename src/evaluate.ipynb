{
 "cells": [
  {
   "cell_type": "code",
   "execution_count": 1,
   "metadata": {},
   "outputs": [],
   "source": [
    "import numpy as np\n",
    "from Session import Session\n",
    "import pickle\n",
    "import pandas as pd"
   ]
  },
  {
   "cell_type": "code",
   "execution_count": 2,
   "metadata": {},
   "outputs": [],
   "source": [
    "def mrr( rank, label ):\n",
    "    for i, item in enumerate(rank[:20]):\n",
    "        if item == label:\n",
    "            return 1.0/(i + 1)\n",
    "    return 0\n",
    "\n",
    "def recall( rank, label ):\n",
    "    return int(label in rank[:20])\n",
    "    \n",
    "def pred2rank_result( pred ):\n",
    "    top20_indices = np.argsort(pred)[-20:]\n",
    "    top20_indices = np.flip(top20_indices, 0)\n",
    "    rank_result = [ candidates[i] for i in top20_indices ]\n",
    "    return rank_result\n"
   ]
  },
  {
   "cell_type": "code",
   "execution_count": 8,
   "metadata": {},
   "outputs": [],
   "source": [
    "pred = np.load('../output/knn_pred.npy')\n",
    "\n",
    "with open( 'test_sessions.pkl', 'rb' ) as f:\n",
    "    test_sessions = pickle.load(f)\n",
    "with open( 'candidate_itemset.pkl', 'rb') as f:\n",
    "    candidates = pickle.load(f)"
   ]
  },
  {
   "cell_type": "code",
   "execution_count": 9,
   "metadata": {},
   "outputs": [
    {
     "data": {
      "text/plain": [
       "(55898, 20)"
      ]
     },
     "execution_count": 9,
     "metadata": {},
     "output_type": "execute_result"
    }
   ],
   "source": [
    "pred.shape\n"
   ]
  },
  {
   "cell_type": "code",
   "execution_count": 11,
   "metadata": {},
   "outputs": [],
   "source": [
    "recalls = []\n",
    "mrrs = []\n",
    "for i, (items, label) in enumerate(test_sessions):\n",
    "    rank_result = pred[i]\n",
    "    recalls.append( recall(rank_result, label) )\n",
    "    mrrs.append( mrr(rank_result, label) )"
   ]
  },
  {
   "cell_type": "code",
   "execution_count": 12,
   "metadata": {},
   "outputs": [
    {
     "data": {
      "text/plain": [
       "0.01656588786718666"
      ]
     },
     "execution_count": 12,
     "metadata": {},
     "output_type": "execute_result"
    }
   ],
   "source": [
    "np.mean(recalls)"
   ]
  },
  {
   "cell_type": "code",
   "execution_count": 13,
   "metadata": {},
   "outputs": [
    {
     "data": {
      "text/plain": [
       "0.002939223542366712"
      ]
     },
     "execution_count": 13,
     "metadata": {},
     "output_type": "execute_result"
    }
   ],
   "source": [
    "np.mean(mrrs)"
   ]
  },
  {
   "cell_type": "code",
   "execution_count": null,
   "metadata": {},
   "outputs": [],
   "source": []
  }
 ],
 "metadata": {
  "kernelspec": {
   "display_name": "Python 3.10.8 64-bit ('3.10.8')",
   "language": "python",
   "name": "python3"
  },
  "language_info": {
   "codemirror_mode": {
    "name": "ipython",
    "version": 3
   },
   "file_extension": ".py",
   "mimetype": "text/x-python",
   "name": "python",
   "nbconvert_exporter": "python",
   "pygments_lexer": "ipython3",
   "version": "3.10.8"
  },
  "orig_nbformat": 4,
  "vscode": {
   "interpreter": {
    "hash": "e7d001b5e2f49e392f305a0d2c1f44dd159dbb900dfdf1fca834b7701202195b"
   }
  }
 },
 "nbformat": 4,
 "nbformat_minor": 2
}
