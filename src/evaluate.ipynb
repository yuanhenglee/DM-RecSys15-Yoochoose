{
 "cells": [
  {
   "cell_type": "code",
   "execution_count": 86,
   "metadata": {},
   "outputs": [],
   "source": [
    "import numpy as np\n",
    "from Session import Session\n",
    "import pickle\n",
    "import pandas as pd"
   ]
  },
  {
   "cell_type": "code",
   "execution_count": 101,
   "metadata": {},
   "outputs": [],
   "source": [
    "def mrr( rank, label ):\n",
    "    for i, item in enumerate(rank[:20]):\n",
    "        if item == label:\n",
    "            return 1.0/(i + 1)\n",
    "    return 0\n",
    "\n",
    "def recall( rank, label ):\n",
    "    return int(label in rank[:20])\n",
    "    \n",
    "def pred2rank_result( pred ):\n",
    "    top20_indices = np.argsort(pred)[-20:]\n",
    "    top20_indices = np.flip(top20_indices, 0)\n",
    "    rank_result = [ candidates[i] for i in top20_indices ]\n",
    "    return rank_result\n"
   ]
  },
  {
   "cell_type": "code",
   "execution_count": 88,
   "metadata": {},
   "outputs": [],
   "source": [
    "with open('../output/STAN_result.csv', 'r') as f:\n",
    "    STAN_df = pd.read_csv(f)\n",
    "with open('../output/SKNN_result.csv', 'r') as f:\n",
    "    SKNN_df = pd.read_csv(f)\n",
    "with open('../output/VSKNN_result.csv', 'r') as f:\n",
    "    VSKNN_df = pd.read_csv(f)\n",
    "with open( '../output/itemCF_result.csv', 'r') as f:\n",
    "    itemCF_df = pd.read_csv(f)\n",
    "with open('../output/NARM_100epochs.csv', 'r') as f:\n",
    "    NARM_df = pd.read_csv(f)\n",
    "    "
   ]
  },
  {
   "cell_type": "code",
   "execution_count": 96,
   "metadata": {},
   "outputs": [],
   "source": [
    "session_set = set(STAN_df.session_id) & set(SKNN_df.session_id) & set(VSKNN_df.session_id) & set(itemCF_df.session_id) & set(NARM_df.session_id)\n",
    "x_test = []\n",
    "y_test = []\n",
    "for i in session_set:\n",
    "    x_test.append( session_ids[i] )\n",
    "    y_test.append( labels[i] )"
   ]
  },
  {
   "cell_type": "code",
   "execution_count": 105,
   "metadata": {},
   "outputs": [
    {
     "name": "stdout",
     "output_type": "stream",
     "text": [
      "STAN 0.24972042843405248 0.6303992821893226\n",
      "SKNN 0.2494927602187688 0.630004486316734\n",
      "VSKNN 0.2499221139145428 0.6308479138627187\n",
      "itemCF 0.17820801074057285 0.4406639748766263\n",
      "NARM 0.29614350255209815 0.6913772992373262\n"
     ]
    }
   ],
   "source": [
    "for res_df, name in zip([STAN_df, SKNN_df, VSKNN_df, itemCF_df, NARM_df], ['STAN', 'SKNN', 'VSKNN', 'itemCF', 'NARM']):\n",
    "    global_mrr = 0\n",
    "    global_recall = 0\n",
    "    for x, y in zip(x_test, y_test):\n",
    "        rank = res_df.loc[res_df.session_id == x, 'item_id'].values\n",
    "        local_mrr = mrr( rank, y )\n",
    "        local_recall = recall( rank, y )\n",
    "\n",
    "        global_mrr += local_mrr\n",
    "        global_recall += local_recall\n",
    "    \n",
    "    global_mrr /= len(x_test)\n",
    "    global_recall /= len(x_test)\n",
    "    print(name, global_mrr, global_recall)"
   ]
  },
  {
   "cell_type": "code",
   "execution_count": 112,
   "metadata": {},
   "outputs": [
    {
     "name": "stdout",
     "output_type": "stream",
     "text": [
      "ensemble 0.2553769364955047 0.6883086585912965\n"
     ]
    }
   ],
   "source": [
    "# ensemble\n",
    "global_mrr = 0\n",
    "global_recall = 0\n",
    "for x, y in zip(x_test, y_test):\n",
    "    score = {}\n",
    "    for res_df, weight in zip( [STAN_df, itemCF_df, NARM_df], [2, 1, 3]):\n",
    "        for i, item in enumerate(res_df.loc[res_df.session_id == x, 'item_id'].values.tolist()):\n",
    "            if item not in score:\n",
    "                score[item] = 0\n",
    "            score[item] += weight / (np.log(i + 5) + 1)\n",
    "\n",
    "    rank = [ k for k, _ in sorted(score.items(), key=lambda item: item[1], reverse=True)[:20] ]\n",
    "\n",
    "    local_mrr = mrr( rank, y )\n",
    "    local_recall = recall( rank, y )\n",
    "\n",
    "    global_mrr += local_mrr\n",
    "    global_recall += local_recall\n",
    "global_mrr /= len(x_test)\n",
    "global_recall /= len(x_test)\n",
    "print(\"ensemble\", global_mrr, global_recall)"
   ]
  },
  {
   "cell_type": "code",
   "execution_count": null,
   "metadata": {},
   "outputs": [],
   "source": []
  }
 ],
 "metadata": {
  "kernelspec": {
   "display_name": "Python 3.10.8 64-bit ('3.10.8')",
   "language": "python",
   "name": "python3"
  },
  "language_info": {
   "codemirror_mode": {
    "name": "ipython",
    "version": 3
   },
   "file_extension": ".py",
   "mimetype": "text/x-python",
   "name": "python",
   "nbconvert_exporter": "python",
   "pygments_lexer": "ipython3",
   "version": "3.10.8"
  },
  "orig_nbformat": 4,
  "vscode": {
   "interpreter": {
    "hash": "e7d001b5e2f49e392f305a0d2c1f44dd159dbb900dfdf1fca834b7701202195b"
   }
  }
 },
 "nbformat": 4,
 "nbformat_minor": 2
}
